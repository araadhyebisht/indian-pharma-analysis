{
 "cells": [
  {
   "cell_type": "markdown",
   "id": "6d3a7a1a",
   "metadata": {},
   "source": [
    "# Pharma Market Analysis\n",
    " \n",
    "**Dataset:** A_Z_medicines_dataset_of_India.csv  \n",
    "\n",
    "### Objective\n",
    "- Understand manufacturer landscape (concentration, top players, market share proxy by product count)\n",
    "- Analyze pricing distribution and identify outliers/zero-priced products\n",
    "- Spotlight specific packaging segment (\"strip of 10 tablets\")\n",
    "- Deliver business insights and actionable recommendations"
   ]
  },
  {
   "cell_type": "markdown",
   "id": "66b7589c",
   "metadata": {},
   "source": [
    "## 1) Setup & Imports"
   ]
  },
  {
   "cell_type": "code",
   "execution_count": 2,
   "id": "aa1fea39",
   "metadata": {},
   "outputs": [],
   "source": [
    "import os\n",
    "import math\n",
    "import pandas as pd\n",
    "import numpy as np\n",
    "import matplotlib.pyplot as plt\n",
    "\n",
    "pd.set_option('display.max_colwidth', 200)\n",
    "pd.set_option('display.max_columns', None)"
   ]
  },
  {
   "cell_type": "markdown",
   "id": "6bfe3046",
   "metadata": {},
   "source": [
    "## 2) Load Data"
   ]
  },
  {
   "cell_type": "code",
   "execution_count": 3,
   "id": "8f35c6e2",
   "metadata": {},
   "outputs": [
    {
     "name": "stdout",
     "output_type": "stream",
     "text": [
      "Shape: (253973, 9)\n"
     ]
    },
    {
     "data": {
      "text/html": [
       "<div>\n",
       "<style scoped>\n",
       "    .dataframe tbody tr th:only-of-type {\n",
       "        vertical-align: middle;\n",
       "    }\n",
       "\n",
       "    .dataframe tbody tr th {\n",
       "        vertical-align: top;\n",
       "    }\n",
       "\n",
       "    .dataframe thead th {\n",
       "        text-align: right;\n",
       "    }\n",
       "</style>\n",
       "<table border=\"1\" class=\"dataframe\">\n",
       "  <thead>\n",
       "    <tr style=\"text-align: right;\">\n",
       "      <th></th>\n",
       "      <th>id</th>\n",
       "      <th>name</th>\n",
       "      <th>price(₹)</th>\n",
       "      <th>Is_discontinued</th>\n",
       "      <th>manufacturer_name</th>\n",
       "      <th>type</th>\n",
       "      <th>pack_size_label</th>\n",
       "      <th>short_composition1</th>\n",
       "      <th>short_composition2</th>\n",
       "    </tr>\n",
       "  </thead>\n",
       "  <tbody>\n",
       "    <tr>\n",
       "      <th>0</th>\n",
       "      <td>1</td>\n",
       "      <td>Augmentin 625 Duo Tablet</td>\n",
       "      <td>223.42</td>\n",
       "      <td>False</td>\n",
       "      <td>Glaxo SmithKline Pharmaceuticals Ltd</td>\n",
       "      <td>allopathy</td>\n",
       "      <td>strip of 10 tablets</td>\n",
       "      <td>Amoxycillin  (500mg)</td>\n",
       "      <td>Clavulanic Acid (125mg)</td>\n",
       "    </tr>\n",
       "    <tr>\n",
       "      <th>1</th>\n",
       "      <td>2</td>\n",
       "      <td>Azithral 500 Tablet</td>\n",
       "      <td>132.36</td>\n",
       "      <td>False</td>\n",
       "      <td>Alembic Pharmaceuticals Ltd</td>\n",
       "      <td>allopathy</td>\n",
       "      <td>strip of 5 tablets</td>\n",
       "      <td>Azithromycin (500mg)</td>\n",
       "      <td>NaN</td>\n",
       "    </tr>\n",
       "    <tr>\n",
       "      <th>2</th>\n",
       "      <td>3</td>\n",
       "      <td>Ascoril LS Syrup</td>\n",
       "      <td>118.00</td>\n",
       "      <td>False</td>\n",
       "      <td>Glenmark Pharmaceuticals Ltd</td>\n",
       "      <td>allopathy</td>\n",
       "      <td>bottle of 100 ml Syrup</td>\n",
       "      <td>Ambroxol (30mg/5ml)</td>\n",
       "      <td>Levosalbutamol (1mg/5ml)</td>\n",
       "    </tr>\n",
       "    <tr>\n",
       "      <th>3</th>\n",
       "      <td>4</td>\n",
       "      <td>Allegra 120mg Tablet</td>\n",
       "      <td>218.81</td>\n",
       "      <td>False</td>\n",
       "      <td>Sanofi India  Ltd</td>\n",
       "      <td>allopathy</td>\n",
       "      <td>strip of 10 tablets</td>\n",
       "      <td>Fexofenadine (120mg)</td>\n",
       "      <td>NaN</td>\n",
       "    </tr>\n",
       "    <tr>\n",
       "      <th>4</th>\n",
       "      <td>5</td>\n",
       "      <td>Avil 25 Tablet</td>\n",
       "      <td>10.96</td>\n",
       "      <td>False</td>\n",
       "      <td>Sanofi India  Ltd</td>\n",
       "      <td>allopathy</td>\n",
       "      <td>strip of 15 tablets</td>\n",
       "      <td>Pheniramine (25mg)</td>\n",
       "      <td>NaN</td>\n",
       "    </tr>\n",
       "  </tbody>\n",
       "</table>\n",
       "</div>"
      ],
      "text/plain": [
       "   id                      name  price(₹)  Is_discontinued  \\\n",
       "0   1  Augmentin 625 Duo Tablet    223.42            False   \n",
       "1   2       Azithral 500 Tablet    132.36            False   \n",
       "2   3          Ascoril LS Syrup    118.00            False   \n",
       "3   4      Allegra 120mg Tablet    218.81            False   \n",
       "4   5            Avil 25 Tablet     10.96            False   \n",
       "\n",
       "                      manufacturer_name       type         pack_size_label  \\\n",
       "0  Glaxo SmithKline Pharmaceuticals Ltd  allopathy     strip of 10 tablets   \n",
       "1           Alembic Pharmaceuticals Ltd  allopathy      strip of 5 tablets   \n",
       "2          Glenmark Pharmaceuticals Ltd  allopathy  bottle of 100 ml Syrup   \n",
       "3                     Sanofi India  Ltd  allopathy     strip of 10 tablets   \n",
       "4                     Sanofi India  Ltd  allopathy     strip of 15 tablets   \n",
       "\n",
       "      short_composition1          short_composition2  \n",
       "0  Amoxycillin  (500mg)      Clavulanic Acid (125mg)  \n",
       "1   Azithromycin (500mg)                         NaN  \n",
       "2   Ambroxol (30mg/5ml)    Levosalbutamol (1mg/5ml)   \n",
       "3   Fexofenadine (120mg)                         NaN  \n",
       "4     Pheniramine (25mg)                         NaN  "
      ]
     },
     "execution_count": 3,
     "metadata": {},
     "output_type": "execute_result"
    }
   ],
   "source": [
    "DATA_PATH = os.getenv('MEDS_DATA_PATH', './A_Z_medicines_dataset_of_India.csv')\n",
    "df = pd.read_csv(DATA_PATH)\n",
    "print('Shape:', df.shape)\n",
    "df.head()"
   ]
  },
  {
   "cell_type": "markdown",
   "id": "6d714d49",
   "metadata": {},
   "source": [
    "## 3) Data Cleaning & Standardization"
   ]
  },
  {
   "cell_type": "code",
   "execution_count": 4,
   "id": "29e9c80c",
   "metadata": {},
   "outputs": [
    {
     "data": {
      "text/plain": [
       "Index(['id', 'name', 'price___', 'is_discontinued', 'manufacturer_name',\n",
       "       'type', 'pack_size_label', 'short_composition1', 'short_composition2'],\n",
       "      dtype='object')"
      ]
     },
     "execution_count": 4,
     "metadata": {},
     "output_type": "execute_result"
    }
   ],
   "source": [
    "# Keep a raw copy\n",
    "raw = df.copy()\n",
    "\n",
    "# Standardize column names: lowercase, strip, replace non-alphanumerics with underscore\n",
    "def clean_cols(cols):\n",
    "    out = []\n",
    "    for c in cols:\n",
    "        c2 = (\n",
    "            str(c).strip().lower()\n",
    "            .replace(' ', '_')\n",
    "        )\n",
    "        # remove characters that are not alnum or underscore\n",
    "        c2 = ''.join(ch if (ch.isalnum() or ch == '_') else '_' for ch in c2)\n",
    "        out.append(c2)\n",
    "    return out\n",
    "\n",
    "df.columns = clean_cols(df.columns)\n",
    "df.columns"
   ]
  },
  {
   "cell_type": "code",
   "execution_count": 5,
   "id": "49bc6569",
   "metadata": {},
   "outputs": [
    {
     "name": "stdout",
     "output_type": "stream",
     "text": [
      "Rows/Cols: (253973, 9)\n",
      "\n",
      "Dtypes:\n",
      "id                      int64\n",
      "name                   object\n",
      "price___              float64\n",
      "is_discontinued          bool\n",
      "manufacturer_name      object\n",
      "type                   object\n",
      "pack_size_label        object\n",
      "short_composition1     object\n",
      "short_composition2     object\n",
      "dtype: object\n",
      "\n",
      "Duplicate rows: 0\n",
      "\n",
      "Missing values per column:\n",
      "short_composition2    141802\n",
      "id                         0\n",
      "name                       0\n",
      "price___                   0\n",
      "is_discontinued            0\n",
      "manufacturer_name          0\n",
      "type                       0\n",
      "pack_size_label            0\n",
      "short_composition1         0\n",
      "dtype: int64\n"
     ]
    }
   ],
   "source": [
    "print('Rows/Cols:', df.shape)\n",
    "print('\\nDtypes:')\n",
    "print(df.dtypes)\n",
    "\n",
    "dup_ct = df.duplicated().sum()\n",
    "print(f\"\\nDuplicate rows: {dup_ct}\")\n",
    "if dup_ct:\n",
    "    df = df.drop_duplicates().reset_index(drop=True)\n",
    "    print('Dropped duplicates. New shape:', df.shape)\n",
    "\n",
    "print('\\nMissing values per column:')\n",
    "print(df.isna().sum().sort_values(ascending=False).head(20))"
   ]
  },
  {
   "cell_type": "markdown",
   "id": "6a265b0a",
   "metadata": {},
   "source": [
    "## 4) Core KPIs"
   ]
  },
  {
   "cell_type": "code",
   "execution_count": 8,
   "id": "7de5e7d8",
   "metadata": {},
   "outputs": [
    {
     "data": {
      "text/html": [
       "<div>\n",
       "<style scoped>\n",
       "    .dataframe tbody tr th:only-of-type {\n",
       "        vertical-align: middle;\n",
       "    }\n",
       "\n",
       "    .dataframe tbody tr th {\n",
       "        vertical-align: top;\n",
       "    }\n",
       "\n",
       "    .dataframe thead th {\n",
       "        text-align: right;\n",
       "    }\n",
       "</style>\n",
       "<table border=\"1\" class=\"dataframe\">\n",
       "  <thead>\n",
       "    <tr style=\"text-align: right;\">\n",
       "      <th></th>\n",
       "      <th>total_products</th>\n",
       "      <th>unique_manufacturers</th>\n",
       "      <th>median_price</th>\n",
       "      <th>mean_price</th>\n",
       "      <th>pct_zero_price</th>\n",
       "    </tr>\n",
       "  </thead>\n",
       "  <tbody>\n",
       "    <tr>\n",
       "      <th>0</th>\n",
       "      <td>253973</td>\n",
       "      <td>7648</td>\n",
       "      <td>79.0</td>\n",
       "      <td>270.530844</td>\n",
       "      <td>0.001575</td>\n",
       "    </tr>\n",
       "  </tbody>\n",
       "</table>\n",
       "</div>"
      ],
      "text/plain": [
       "   total_products  unique_manufacturers  median_price  mean_price  \\\n",
       "0          253973                  7648          79.0  270.530844   \n",
       "\n",
       "   pct_zero_price  \n",
       "0        0.001575  "
      ]
     },
     "execution_count": 8,
     "metadata": {},
     "output_type": "execute_result"
    }
   ],
   "source": [
    "kpis = {}\n",
    "kpis['total_products'] = len(df)\n",
    "if 'manufacturer_name' in df.columns:\n",
    "    kpis['unique_manufacturers'] = df['manufacturer_name'].nunique()\n",
    "if price_col:\n",
    "    kpis['median_price'] = float(df[price_col].median())\n",
    "    kpis['mean_price'] = float(df[price_col].mean())\n",
    "    kpis['pct_zero_price'] = float((df[price_col] == 0).mean() * 100)\n",
    "\n",
    "pd.DataFrame([kpis])"
   ]
  },
  {
   "cell_type": "markdown",
   "id": "1a8032b2",
   "metadata": {},
   "source": [
    "## 5) Manufacturer Landscape"
   ]
  },
  {
   "cell_type": "code",
   "execution_count": 19,
   "id": "0b5a63d4",
   "metadata": {},
   "outputs": [
    {
     "data": {
      "text/html": [
       "<div>\n",
       "<style scoped>\n",
       "    .dataframe tbody tr th:only-of-type {\n",
       "        vertical-align: middle;\n",
       "    }\n",
       "\n",
       "    .dataframe tbody tr th {\n",
       "        vertical-align: top;\n",
       "    }\n",
       "\n",
       "    .dataframe thead th {\n",
       "        text-align: right;\n",
       "    }\n",
       "</style>\n",
       "<table border=\"1\" class=\"dataframe\">\n",
       "  <thead>\n",
       "    <tr style=\"text-align: right;\">\n",
       "      <th></th>\n",
       "      <th>manufacturer_name</th>\n",
       "      <th>count</th>\n",
       "    </tr>\n",
       "  </thead>\n",
       "  <tbody>\n",
       "    <tr>\n",
       "      <th>6543</th>\n",
       "      <td>Sun Pharmaceutical Industries Ltd</td>\n",
       "      <td>2986</td>\n",
       "    </tr>\n",
       "    <tr>\n",
       "      <th>1619</th>\n",
       "      <td>Cipla Ltd</td>\n",
       "      <td>2467</td>\n",
       "    </tr>\n",
       "    <tr>\n",
       "      <th>3262</th>\n",
       "      <td>Intas Pharmaceuticals Ltd</td>\n",
       "      <td>2302</td>\n",
       "    </tr>\n",
       "    <tr>\n",
       "      <th>6809</th>\n",
       "      <td>Torrent Pharmaceuticals Ltd</td>\n",
       "      <td>2027</td>\n",
       "    </tr>\n",
       "    <tr>\n",
       "      <th>397</th>\n",
       "      <td>Alkem Laboratories Ltd</td>\n",
       "      <td>1809</td>\n",
       "    </tr>\n",
       "    <tr>\n",
       "      <th>89</th>\n",
       "      <td>Abbott</td>\n",
       "      <td>1777</td>\n",
       "    </tr>\n",
       "    <tr>\n",
       "      <th>7627</th>\n",
       "      <td>Zydus Cadila</td>\n",
       "      <td>1768</td>\n",
       "    </tr>\n",
       "    <tr>\n",
       "      <th>3861</th>\n",
       "      <td>Lupin Ltd</td>\n",
       "      <td>1735</td>\n",
       "    </tr>\n",
       "    <tr>\n",
       "      <th>4464</th>\n",
       "      <td>Micro Labs Ltd</td>\n",
       "      <td>1305</td>\n",
       "    </tr>\n",
       "    <tr>\n",
       "      <th>4012</th>\n",
       "      <td>Mankind Pharma Ltd</td>\n",
       "      <td>1297</td>\n",
       "    </tr>\n",
       "    <tr>\n",
       "      <th>3940</th>\n",
       "      <td>Macleods Pharmaceuticals Pvt Ltd</td>\n",
       "      <td>1165</td>\n",
       "    </tr>\n",
       "    <tr>\n",
       "      <th>2771</th>\n",
       "      <td>Glenmark Pharmaceuticals Ltd</td>\n",
       "      <td>1131</td>\n",
       "    </tr>\n",
       "    <tr>\n",
       "      <th>3727</th>\n",
       "      <td>Leeford Healthcare Ltd</td>\n",
       "      <td>1068</td>\n",
       "    </tr>\n",
       "    <tr>\n",
       "      <th>2109</th>\n",
       "      <td>Dr Reddy's Laboratories Ltd</td>\n",
       "      <td>997</td>\n",
       "    </tr>\n",
       "    <tr>\n",
       "      <th>1446</th>\n",
       "      <td>Cadila Pharmaceuticals Ltd</td>\n",
       "      <td>971</td>\n",
       "    </tr>\n",
       "  </tbody>\n",
       "</table>\n",
       "</div>"
      ],
      "text/plain": [
       "                      manufacturer_name  count\n",
       "6543  Sun Pharmaceutical Industries Ltd   2986\n",
       "1619                          Cipla Ltd   2467\n",
       "3262          Intas Pharmaceuticals Ltd   2302\n",
       "6809        Torrent Pharmaceuticals Ltd   2027\n",
       "397              Alkem Laboratories Ltd   1809\n",
       "89                               Abbott   1777\n",
       "7627                       Zydus Cadila   1768\n",
       "3861                          Lupin Ltd   1735\n",
       "4464                     Micro Labs Ltd   1305\n",
       "4012                 Mankind Pharma Ltd   1297\n",
       "3940   Macleods Pharmaceuticals Pvt Ltd   1165\n",
       "2771       Glenmark Pharmaceuticals Ltd   1131\n",
       "3727             Leeford Healthcare Ltd   1068\n",
       "2109        Dr Reddy's Laboratories Ltd    997\n",
       "1446         Cadila Pharmaceuticals Ltd    971"
      ]
     },
     "metadata": {},
     "output_type": "display_data"
    },
    {
     "data": {
      "image/png": "[encoded data removed]",
      "text/plain": [
       "<Figure size 1000x500 with 1 Axes>"
      ]
     },
     "metadata": {},
     "output_type": "display_data"
    }
   ],
   "source": [
    "top_manu = (\n",
    "    df.groupby('manufacturer_name').size().reset_index(name='count')\n",
    "    .sort_values('count', ascending=False)\n",
    "    )\n",
    "display(top_manu.head(15))\n",
    "\n",
    "    # Plot Top 10 (matplotlib only; single plot; no explicit colors)\n",
    "top10 = top_manu.head(10)\n",
    "plt.figure(figsize=(10,5))\n",
    "plt.barh(top10['manufacturer_name'][::-1], top10['count'][::-1])\n",
    "plt.title('Top 10 Manufacturers by Product Count')\n",
    "plt.xlabel('Count')\n",
    "plt.ylabel('Manufacturer')\n",
    "plt.tight_layout()\n",
    "plt.show()"
   ]
  },
  {
   "cell_type": "markdown",
   "id": "9883c319",
   "metadata": {},
   "source": [
    "**Insight:** The market appears concentrated among the top manufacturers. Use this to prioritize partnerships and procurement negotiations."
   ]
  },
  {
   "cell_type": "markdown",
   "id": "53b83a30",
   "metadata": {},
   "source": [
    "## 6) Price Distribution"
   ]
  },
  {
   "cell_type": "code",
   "execution_count": 22,
   "id": "d978a1c8",
   "metadata": {},
   "outputs": [
    {
     "data": {
      "image/png": "[encoded data removed]",
      "text/plain": [
       "<Figure size 800x400 with 1 Axes>"
      ]
     },
     "metadata": {},
     "output_type": "display_data"
    },
    {
     "data": {
      "image/png": "[encoded data removed]",
      "text/plain": [
       "<Figure size 800x400 with 1 Axes>"
      ]
     },
     "metadata": {},
     "output_type": "display_data"
    }
   ],
   "source": [
    "plt.figure(figsize=(8,4))\n",
    "plt.hist(df[price_col].dropna(), bins=50)\n",
    "plt.title('Price Distribution (INR)')\n",
    "plt.xlabel('Price')\n",
    "plt.ylabel('Frequency')\n",
    "plt.tight_layout()\n",
    "plt.show()\n",
    "\n",
    "# Log scale histogram for heavy tails\n",
    "positive_prices = df[price_col].dropna()\n",
    "positive_prices = positive_prices[positive_prices > 0]\n",
    "if len(positive_prices):\n",
    "    plt.figure(figsize=(8,4))\n",
    "    plt.hist(np.log10(positive_prices), bins=50)\n",
    "    plt.title('Log10 Price Distribution (INR)')\n",
    "    plt.xlabel('log10(Price)')\n",
    "    plt.ylabel('Frequency')\n",
    "    plt.tight_layout()\n",
    "    plt.show()\n"
   ]
  },
  {
   "cell_type": "markdown",
   "id": "d84456f2",
   "metadata": {},
   "source": [
    "**Insight:** Prices are right-skewed; consider tiered pricing strategies and promotional focus on median-priced SKUs to maximize volume."
   ]
  },
  {
   "cell_type": "markdown",
   "id": "bd98261a",
   "metadata": {},
   "source": [
    "## 7) Focus Segment: Strip of 10 Tablets"
   ]
  },
  {
   "cell_type": "code",
   "execution_count": 27,
   "id": "4391182f",
   "metadata": {},
   "outputs": [
    {
     "data": {
      "text/html": [
       "<div>\n",
       "<style scoped>\n",
       "    .dataframe tbody tr th:only-of-type {\n",
       "        vertical-align: middle;\n",
       "    }\n",
       "\n",
       "    .dataframe tbody tr th {\n",
       "        vertical-align: top;\n",
       "    }\n",
       "\n",
       "    .dataframe thead th {\n",
       "        text-align: right;\n",
       "    }\n",
       "</style>\n",
       "<table border=\"1\" class=\"dataframe\">\n",
       "  <thead>\n",
       "    <tr style=\"text-align: right;\">\n",
       "      <th></th>\n",
       "      <th>manufacturer_name</th>\n",
       "      <th>count</th>\n",
       "    </tr>\n",
       "  </thead>\n",
       "  <tbody>\n",
       "    <tr>\n",
       "      <th>5643</th>\n",
       "      <td>Sun Pharmaceutical Industries Ltd</td>\n",
       "      <td>1162</td>\n",
       "    </tr>\n",
       "    <tr>\n",
       "      <th>5867</th>\n",
       "      <td>Torrent Pharmaceuticals Ltd</td>\n",
       "      <td>970</td>\n",
       "    </tr>\n",
       "    <tr>\n",
       "      <th>2788</th>\n",
       "      <td>Intas Pharmaceuticals Ltd</td>\n",
       "      <td>868</td>\n",
       "    </tr>\n",
       "    <tr>\n",
       "      <th>1382</th>\n",
       "      <td>Cipla Ltd</td>\n",
       "      <td>767</td>\n",
       "    </tr>\n",
       "    <tr>\n",
       "      <th>343</th>\n",
       "      <td>Alkem Laboratories Ltd</td>\n",
       "      <td>615</td>\n",
       "    </tr>\n",
       "    <tr>\n",
       "      <th>82</th>\n",
       "      <td>Abbott</td>\n",
       "      <td>606</td>\n",
       "    </tr>\n",
       "    <tr>\n",
       "      <th>6581</th>\n",
       "      <td>Zydus Cadila</td>\n",
       "      <td>597</td>\n",
       "    </tr>\n",
       "    <tr>\n",
       "      <th>3305</th>\n",
       "      <td>Lupin Ltd</td>\n",
       "      <td>595</td>\n",
       "    </tr>\n",
       "    <tr>\n",
       "      <th>3845</th>\n",
       "      <td>Micro Labs Ltd</td>\n",
       "      <td>589</td>\n",
       "    </tr>\n",
       "    <tr>\n",
       "      <th>3438</th>\n",
       "      <td>Mankind Pharma Ltd</td>\n",
       "      <td>572</td>\n",
       "    </tr>\n",
       "    <tr>\n",
       "      <th>1847</th>\n",
       "      <td>East West Pharma</td>\n",
       "      <td>450</td>\n",
       "    </tr>\n",
       "    <tr>\n",
       "      <th>1231</th>\n",
       "      <td>Cadila Pharmaceuticals Ltd</td>\n",
       "      <td>391</td>\n",
       "    </tr>\n",
       "    <tr>\n",
       "      <th>3371</th>\n",
       "      <td>Macleods Pharmaceuticals Pvt Ltd</td>\n",
       "      <td>388</td>\n",
       "    </tr>\n",
       "    <tr>\n",
       "      <th>1955</th>\n",
       "      <td>Emcure Pharmaceuticals Ltd</td>\n",
       "      <td>385</td>\n",
       "    </tr>\n",
       "    <tr>\n",
       "      <th>3190</th>\n",
       "      <td>Leeford Healthcare Ltd</td>\n",
       "      <td>357</td>\n",
       "    </tr>\n",
       "  </tbody>\n",
       "</table>\n",
       "</div>"
      ],
      "text/plain": [
       "                      manufacturer_name  count\n",
       "5643  Sun Pharmaceutical Industries Ltd   1162\n",
       "5867        Torrent Pharmaceuticals Ltd    970\n",
       "2788          Intas Pharmaceuticals Ltd    868\n",
       "1382                          Cipla Ltd    767\n",
       "343              Alkem Laboratories Ltd    615\n",
       "82                               Abbott    606\n",
       "6581                       Zydus Cadila    597\n",
       "3305                          Lupin Ltd    595\n",
       "3845                     Micro Labs Ltd    589\n",
       "3438                 Mankind Pharma Ltd    572\n",
       "1847                   East West Pharma    450\n",
       "1231         Cadila Pharmaceuticals Ltd    391\n",
       "3371   Macleods Pharmaceuticals Pvt Ltd    388\n",
       "1955         Emcure Pharmaceuticals Ltd    385\n",
       "3190             Leeford Healthcare Ltd    357"
      ]
     },
     "metadata": {},
     "output_type": "display_data"
    },
    {
     "data": {
      "text/html": [
       "<div>\n",
       "<style scoped>\n",
       "    .dataframe tbody tr th:only-of-type {\n",
       "        vertical-align: middle;\n",
       "    }\n",
       "\n",
       "    .dataframe tbody tr th {\n",
       "        vertical-align: top;\n",
       "    }\n",
       "\n",
       "    .dataframe thead th {\n",
       "        text-align: right;\n",
       "    }\n",
       "</style>\n",
       "<table border=\"1\" class=\"dataframe\">\n",
       "  <thead>\n",
       "    <tr style=\"text-align: right;\">\n",
       "      <th></th>\n",
       "      <th>manufacturer_name</th>\n",
       "      <th>count</th>\n",
       "      <th>pct</th>\n",
       "    </tr>\n",
       "  </thead>\n",
       "  <tbody>\n",
       "    <tr>\n",
       "      <th>5643</th>\n",
       "      <td>Sun Pharmaceutical Industries Ltd</td>\n",
       "      <td>1162</td>\n",
       "      <td>1.00</td>\n",
       "    </tr>\n",
       "    <tr>\n",
       "      <th>5867</th>\n",
       "      <td>Torrent Pharmaceuticals Ltd</td>\n",
       "      <td>970</td>\n",
       "      <td>0.83</td>\n",
       "    </tr>\n",
       "    <tr>\n",
       "      <th>2788</th>\n",
       "      <td>Intas Pharmaceuticals Ltd</td>\n",
       "      <td>868</td>\n",
       "      <td>0.74</td>\n",
       "    </tr>\n",
       "    <tr>\n",
       "      <th>1382</th>\n",
       "      <td>Cipla Ltd</td>\n",
       "      <td>767</td>\n",
       "      <td>0.66</td>\n",
       "    </tr>\n",
       "    <tr>\n",
       "      <th>343</th>\n",
       "      <td>Alkem Laboratories Ltd</td>\n",
       "      <td>615</td>\n",
       "      <td>0.53</td>\n",
       "    </tr>\n",
       "    <tr>\n",
       "      <th>82</th>\n",
       "      <td>Abbott</td>\n",
       "      <td>606</td>\n",
       "      <td>0.52</td>\n",
       "    </tr>\n",
       "    <tr>\n",
       "      <th>6581</th>\n",
       "      <td>Zydus Cadila</td>\n",
       "      <td>597</td>\n",
       "      <td>0.51</td>\n",
       "    </tr>\n",
       "    <tr>\n",
       "      <th>3305</th>\n",
       "      <td>Lupin Ltd</td>\n",
       "      <td>595</td>\n",
       "      <td>0.51</td>\n",
       "    </tr>\n",
       "    <tr>\n",
       "      <th>3845</th>\n",
       "      <td>Micro Labs Ltd</td>\n",
       "      <td>589</td>\n",
       "      <td>0.51</td>\n",
       "    </tr>\n",
       "    <tr>\n",
       "      <th>3438</th>\n",
       "      <td>Mankind Pharma Ltd</td>\n",
       "      <td>572</td>\n",
       "      <td>0.49</td>\n",
       "    </tr>\n",
       "  </tbody>\n",
       "</table>\n",
       "</div>"
      ],
      "text/plain": [
       "                      manufacturer_name  count   pct\n",
       "5643  Sun Pharmaceutical Industries Ltd   1162  1.00\n",
       "5867        Torrent Pharmaceuticals Ltd    970  0.83\n",
       "2788          Intas Pharmaceuticals Ltd    868  0.74\n",
       "1382                          Cipla Ltd    767  0.66\n",
       "343              Alkem Laboratories Ltd    615  0.53\n",
       "82                               Abbott    606  0.52\n",
       "6581                       Zydus Cadila    597  0.51\n",
       "3305                          Lupin Ltd    595  0.51\n",
       "3845                     Micro Labs Ltd    589  0.51\n",
       "3438                 Mankind Pharma Ltd    572  0.49"
      ]
     },
     "metadata": {},
     "output_type": "display_data"
    },
    {
     "data": {
      "image/png": "[encoded data removed]",
      "text/plain": [
       "<Figure size 1000x500 with 1 Axes>"
      ]
     },
     "metadata": {},
     "output_type": "display_data"
    }
   ],
   "source": [
    "mask_10 = df['pack_size_label'].str.lower().eq('strip of 10 tablets')\n",
    "seg = df[mask_10]\n",
    "share = (\n",
    "    seg.groupby('manufacturer_name').size().reset_index(name='count').sort_values('count', ascending=False)\n",
    ")\n",
    "display(share.head(15))\n",
    "\n",
    "# Market share % within the segment\n",
    "total_seg = share['count'].sum()\n",
    "share['pct'] = (share['count'] / total_seg * 100).round(2)\n",
    "display(share.head(10))\n",
    "\n",
    "# Plot Top 10\n",
    "top10 = share.head(10)\n",
    "plt.figure(figsize=(10,5))\n",
    "plt.barh(top10['manufacturer_name'][::-1], top10['count'][::-1])\n",
    "plt.title('Top 10 Manufacturers – Strip of 10 Tablets')\n",
    "plt.xlabel('Count within segment')\n",
    "plt.ylabel('Manufacturer')\n",
    "plt.tight_layout()\n",
    "plt.show()"
   ]
  },
  {
   "cell_type": "markdown",
   "id": "e1515c5f",
   "metadata": {},
   "source": [
    "**Insight:** Dominant players in the \"strip of 10\" segment indicate packaging and supply-chain strengths suitable for retail channels."
   ]
  },
  {
   "cell_type": "markdown",
   "id": "78ed4719",
   "metadata": {},
   "source": [
    "## 8) Zero-Priced Products"
   ]
  },
  {
   "cell_type": "code",
   "execution_count": 26,
   "id": "3dba3265",
   "metadata": {},
   "outputs": [
    {
     "name": "stdout",
     "output_type": "stream",
     "text": [
      "Zero-priced products: 4\n"
     ]
    },
    {
     "data": {
      "text/html": [
       "<div>\n",
       "<style scoped>\n",
       "    .dataframe tbody tr th:only-of-type {\n",
       "        vertical-align: middle;\n",
       "    }\n",
       "\n",
       "    .dataframe tbody tr th {\n",
       "        vertical-align: top;\n",
       "    }\n",
       "\n",
       "    .dataframe thead th {\n",
       "        text-align: right;\n",
       "    }\n",
       "</style>\n",
       "<table border=\"1\" class=\"dataframe\">\n",
       "  <thead>\n",
       "    <tr style=\"text-align: right;\">\n",
       "      <th></th>\n",
       "      <th>manufacturer_name</th>\n",
       "      <th>count</th>\n",
       "    </tr>\n",
       "  </thead>\n",
       "  <tbody>\n",
       "    <tr>\n",
       "      <th>0</th>\n",
       "      <td>Bharat Biotech</td>\n",
       "      <td>1</td>\n",
       "    </tr>\n",
       "    <tr>\n",
       "      <th>1</th>\n",
       "      <td>Dr Reddy's Laboratories Ltd</td>\n",
       "      <td>1</td>\n",
       "    </tr>\n",
       "    <tr>\n",
       "      <th>2</th>\n",
       "      <td>ModernaTX, Inc</td>\n",
       "      <td>1</td>\n",
       "    </tr>\n",
       "    <tr>\n",
       "      <th>3</th>\n",
       "      <td>Serum Institute Of India Ltd</td>\n",
       "      <td>1</td>\n",
       "    </tr>\n",
       "  </tbody>\n",
       "</table>\n",
       "</div>"
      ],
      "text/plain": [
       "              manufacturer_name  count\n",
       "0                Bharat Biotech      1\n",
       "1   Dr Reddy's Laboratories Ltd      1\n",
       "2                ModernaTX, Inc      1\n",
       "3  Serum Institute Of India Ltd      1"
      ]
     },
     "metadata": {},
     "output_type": "display_data"
    }
   ],
   "source": [
    "zeros = df[df[price_col] == 0]\n",
    "print('Zero-priced products:', len(zeros))\n",
    "if 'manufacturer_name' in df.columns and len(zeros):\n",
    "    zshare = zeros.groupby('manufacturer_name').size().reset_index(name='count').sort_values('count', ascending=False)\n",
    "    display(zshare.head(10))"
   ]
  },
  {
   "cell_type": "markdown",
   "id": "1c7d13f7",
   "metadata": {},
   "source": [
    "**Risk Note:** High zero-priced entries could reflect data-entry anomalies, public programs (free vaccines), or placeholder SKUs. Investigate before pricing decisions."
   ]
  },
  {
   "cell_type": "markdown",
   "id": "1aa255fd",
   "metadata": {},
   "source": [
    "## 9) Discontinued vs Active (if available)"
   ]
  },
  {
   "cell_type": "code",
   "execution_count": 28,
   "id": "9316f3b2",
   "metadata": {},
   "outputs": [
    {
     "name": "stdout",
     "output_type": "stream",
     "text": [
      "Candidate status columns: ['is_discontinued']\n",
      "Using status column: is_discontinued\n",
      "is_discontinued\n",
      "False    246068\n",
      "True       7905\n",
      "Name: count, dtype: int64\n"
     ]
    },
    {
     "data": {
      "text/html": [
       "<div>\n",
       "<style scoped>\n",
       "    .dataframe tbody tr th:only-of-type {\n",
       "        vertical-align: middle;\n",
       "    }\n",
       "\n",
       "    .dataframe tbody tr th {\n",
       "        vertical-align: top;\n",
       "    }\n",
       "\n",
       "    .dataframe thead th {\n",
       "        text-align: right;\n",
       "    }\n",
       "</style>\n",
       "<table border=\"1\" class=\"dataframe\">\n",
       "  <thead>\n",
       "    <tr style=\"text-align: right;\">\n",
       "      <th></th>\n",
       "      <th>is_discontinued</th>\n",
       "      <th>median_price</th>\n",
       "    </tr>\n",
       "  </thead>\n",
       "  <tbody>\n",
       "    <tr>\n",
       "      <th>0</th>\n",
       "      <td>False</td>\n",
       "      <td>79.0</td>\n",
       "    </tr>\n",
       "    <tr>\n",
       "      <th>1</th>\n",
       "      <td>True</td>\n",
       "      <td>77.0</td>\n",
       "    </tr>\n",
       "  </tbody>\n",
       "</table>\n",
       "</div>"
      ],
      "text/plain": [
       "   is_discontinued  median_price\n",
       "0            False          79.0\n",
       "1             True          77.0"
      ]
     },
     "metadata": {},
     "output_type": "display_data"
    }
   ],
   "source": [
    "disc_cols = [c for c in df.columns if 'discontinued' in c or 'status' in c]\n",
    "print('Candidate status columns:', disc_cols)\n",
    "if disc_cols:\n",
    "    col = disc_cols[0]\n",
    "    print('Using status column:', col)\n",
    "    print(df[col].value_counts(dropna=False))\n",
    "    if price_col:\n",
    "        # Compare median price by status\n",
    "        med = df.groupby(col)[price_col].median().reset_index(name='median_price')\n",
    "        display(med)\n",
    "else:\n",
    "    print('No obvious discontinued/status column found.')"
   ]
  },
  {
   "cell_type": "markdown",
   "id": "c42be24f",
   "metadata": {},
   "source": [
    "## 10) Executive Summary & Recommendations\n",
    "**Key Findings:**\n",
    "- The top 10 manufacturers account for a significant share of listed products, indicating market concentration.\n",
    "- Price distribution is skewed with a long tail, focus pricing on median range SKUs for volume while monitoring outliers.\n",
    "- In the \"strip of 10 tablets\" segment, a handful of manufacturers dominate, suggesting packaging economies and strong retail presence.\n",
    "- Zero-priced entries are  due to the covid-19 situation, we should exclude them from price benchmarking.\n",
    "\n",
    "**Recommendations:**\n",
    "1. **Partnership Prioritization:** Target the top manufacturers for commercial partnerships to quickly capture market coverage.\n",
    "2. **Pricing Strategy:** Use median-price bands for competitiveness; investigate high/low outliers for margin opportunities.\n",
    "3. **Segment Focus:** Leverage the \"strip of 10\" findings to guide channel strategy (retail vs institutional).\n",
    "4. **Data Governance:** Implement validation rules to flag zero or missing prices and standardize metadata (pack size labels)."
   ]
  }
 ],
 "metadata": {
  "kernelspec": {
   "display_name": "Python (pyenv 3.13.1)",
   "language": "python",
   "name": "pyenv-3.13.1"
  },
  "language_info": {
   "codemirror_mode": {
    "name": "ipython",
    "version": 3
   },
   "file_extension": ".py",
   "mimetype": "text/x-python",
   "name": "python",
   "nbconvert_exporter": "python",
   "pygments_lexer": "ipython3",
   "version": "3.13.1"
  }
 },
 "nbformat": 4,
 "nbformat_minor": 5
}
